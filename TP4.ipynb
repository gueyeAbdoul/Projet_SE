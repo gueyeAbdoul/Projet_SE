{
  "cells": [
    {
      "cell_type": "markdown",
      "metadata": {
        "id": "view-in-github",
        "colab_type": "text"
      },
      "source": [
        "<a href=\"https://colab.research.google.com/github/gueyeAbdoul/Projet_SE/blob/main/TP4.ipynb\" target=\"_parent\"><img src=\"https://colab.research.google.com/assets/colab-badge.svg\" alt=\"Open In Colab\"/></a>"
      ]
    },
    {
      "cell_type": "markdown",
      "metadata": {
        "id": "0Tb7n-BvEthA"
      },
      "source": [
        "# **k plus proches voisins - k nearest neighbours**\n",
        "\n",
        "On abbregera k-plus proches voisins avec k-ppv"
      ]
    },
    {
      "cell_type": "markdown",
      "metadata": {
        "id": "zc0msg8cFE-8"
      },
      "source": [
        "## Exercice 1\n",
        "A tracer sur papier.\n",
        "\n",
        "On a les quatre points suivants:\n",
        "\n",
        "|Nom| coordonnées |\n",
        "|---| --- |\n",
        "| A | (1,1)|\n",
        "| B | (1,3)|\n",
        "| C | (-1,2) |\n",
        "| D | (-2,0) |\n",
        "\n",
        " Tracer la frontière de décision pour le 1 - plus proche voisin\n"
      ]
    },
    {
      "cell_type": "markdown",
      "metadata": {
        "id": "OyaxFGbrRmZK"
      },
      "source": [
        "## Exercice 2\n",
        "\n",
        "On a les données ci-dessous avec 9 observations, les classes sont données dans le vecteur $Y$ et les attributs sont donnés dans le vecteur $X$."
      ]
    },
    {
      "cell_type": "code",
      "execution_count": 2,
      "metadata": {
        "id": "3C4SnCRdQj_X"
      },
      "outputs": [],
      "source": [
        "import numpy as np\n",
        "import matplotlib.pyplot as plt\n",
        "\n",
        "X = np.array([[-4, 0], [-3,1], [-3, 0], [-3,-1], [-0.9, 0], [1,0], [2.2,1], [2.2,0], [2.2, -1]])\n",
        "Y = np.array([1,1,1,1,1,2,2,2,2])\n"
      ]
    },
    {
      "cell_type": "markdown",
      "metadata": {
        "id": "xG-6NuTrGPJu"
      },
      "source": [
        "1. Générez le graphique des données.\n"
      ]
    },
    {
      "cell_type": "code",
      "execution_count": 3,
      "metadata": {
        "id": "1wqWgTS6GPJv",
        "colab": {
          "base_uri": "https://localhost:8080/",
          "height": 472
        },
        "outputId": "c704c33f-655a-4c03-a07a-9be60e25c736"
      },
      "outputs": [
        {
          "output_type": "display_data",
          "data": {
            "text/plain": [
              "<Figure size 640x480 with 1 Axes>"
            ],
            "image/png": "[encoded data removed]"
          },
          "metadata": {}
        }
      ],
      "source": [
        "def plot_data(X, Y):\n",
        "    class_1 =X[Y==1]\n",
        "    class_2 =X[Y==2]\n",
        "    plt.scatter(class_1[:, 0], class_1[:, 1], c='red', label='Classe 1')\n",
        "    plt.scatter(class_2[:, 0], class_2[:, 1], c='blue', label='Classe 2')\n",
        "    plt.xlabel('Attribut 1')\n",
        "    plt.ylabel('Attribut 2')\n",
        "\n",
        "    plt.title('Graphique des données')\n",
        "\n",
        "plot_data(X,Y)\n",
        "plt.show()"
      ]
    },
    {
      "cell_type": "markdown",
      "metadata": {
        "id": "e8cbcbWRTE0I"
      },
      "source": [
        "2. Ecrivez une fonction kppv(X, Y, k, obs) qui prend les données $X$ et leurs classes $Y$, la valeur de $k$ et une nouvelle observation $obs$ dont on ne connait pas la classe. La fonction retourne la prédiction de l'algorithme du k-ppv pour la nouvelle observation $obs$.\n",
        "Pour simplifier, on supposera qu'il y a seulement deux attributs et que la distance est la distance euclidienne.\n",
        "\n",
        "Notez que numpy possède une fonction pour trier (voir exemple ci-dessous), et surtout pour récupérer la permutation de tri. Si vous avez un vecteur $v$, au lieu de récupérer le vecteur trié $v_{ord}$, vous pouvez obtenir le vecteur d'index $\\sigma$ tel que $v[\\sigma[i]] = v_{ord[i]}$.\n",
        "\n",
        "Une dernière fonction utile, la fonction `unique` du module `numpy` vous permet de trouver les valeurs uniques qui se trouvent dans un vecteur. De plus, grace à l'option `return_counts=True`, vous pouvez aussi récupérer le nombre d'occurrence de chaque valeur.\n"
      ]
    },
    {
      "cell_type": "code",
      "execution_count": 4,
      "metadata": {
        "colab": {
          "base_uri": "https://localhost:8080/"
        },
        "id": "B1pJNbIUR27i",
        "outputId": "a47af7d8-f129-4a05-b5b5-34951fad220b"
      },
      "outputs": [
        {
          "output_type": "stream",
          "name": "stdout",
          "text": [
            "données triées: [1 2 3 4 5 6]\n",
            "données de départ:  [6 3 4 2 1 5]\n",
            "permuation sigma= [4 3 1 2 5 0]\n",
            "l'élément le plus petit est celui qui a l'index 4 dans le vecteur original\n",
            "l'élément le plus grand est celui qui a l'index 0 dans le vecteur original\n",
            "éléments unique de v: [1 2 3]  nombre d'occurrences:  [4 4 3]\n"
          ]
        }
      ],
      "source": [
        "v = np.array([6,3,4,2,1,5])\n",
        "# retourne les données triées\n",
        "tv= np.sort(v)\n",
        "print(\"données triées:\", tv)\n",
        "# attention! Les données originelles n'ont pas changé!\n",
        "print(\"données de départ: \", v)\n",
        "# on peut aussi avoir la permutation pour trier le vecteur\n",
        "sigma = np.argsort(v)\n",
        "print(\"permuation sigma=\",sigma)\n",
        "print(\"l'élément le plus petit est celui qui a l'index\", sigma[0], \"dans le vecteur original\")\n",
        "print(\"l'élément le plus grand est celui qui a l'index\", sigma[len(v)-1], \"dans le vecteur original\")\n",
        "v=np.array([1, 2, 3, 2, 1, 2, 3, 1, 3, 2, 1])\n",
        "val, count = np.unique(v, return_counts=True)\n",
        "print(\"éléments unique de v:\", val,  \" nombre d'occurrences: \", count)"
      ]
    },
    {
      "cell_type": "code",
      "execution_count": 37,
      "metadata": {
        "id": "51XppOcOWlcI"
      },
      "outputs": [],
      "source": [
        "def kppv(X, Y, k, obs):\n",
        "    distances = np.sqrt(np.sum((X - obs)**2, axis=1))\n",
        "    print(distances)\n",
        "    indices = np.argsort(distances)\n",
        "    print(indices)\n",
        "    voisins = Y[indices[:k]]\n",
        "    print(voisins)\n",
        "    val, count= np.unique(voisins, return_counts=True)\n",
        "    predict = val[count.argmax()]\n",
        "    return predict"
      ]
    },
    {
      "cell_type": "code",
      "execution_count": 38,
      "metadata": {
        "id": "vtDuHhDpGPJ3",
        "colab": {
          "base_uri": "https://localhost:8080/"
        },
        "outputId": "d8b2a48b-437c-4b9f-93c2-f2d360ffbeb0"
      },
      "outputs": [
        {
          "output_type": "stream",
          "name": "stdout",
          "text": [
            "[8.06225775 6.70820393 7.21110255 7.81024968 5.58659109 4.47213595\n",
            " 3.10483494 4.07921561 5.06359556]\n",
            "[6 7 5 8 4 1 2 3 0]\n",
            "[2 2 2]\n",
            "Prediction : 2\n"
          ]
        }
      ],
      "source": [
        "obs = np.array([3,4])\n",
        "k = 3\n",
        "\n",
        "predict = kppv(X, Y, k, obs)\n",
        "print(\"Prediction :\", predict)"
      ]
    },
    {
      "cell_type": "code",
      "execution_count": 39,
      "metadata": {
        "id": "WVdGU9lYGPJ4",
        "colab": {
          "base_uri": "https://localhost:8080/",
          "height": 489
        },
        "outputId": "dbbd084a-e394-40d0-de43-b041a3c26b90"
      },
      "outputs": [
        {
          "output_type": "execute_result",
          "data": {
            "text/plain": [
              "Text(0.5, 1.0, 'Graphique des données + obs')"
            ]
          },
          "metadata": {},
          "execution_count": 39
        },
        {
          "output_type": "display_data",
          "data": {
            "text/plain": [
              "<Figure size 640x480 with 1 Axes>"
            ],
            "image/png": "[encoded data removed]"
          },
          "metadata": {}
        }
      ],
      "source": [
        "# Visualisation du point obs\n",
        "class_1 = X[Y==1]\n",
        "class_2 = X[Y==2]\n",
        "plt.scatter(class_1[:, 0], class_1[:, 1], c='red', label='Classe 1')\n",
        "plt.scatter(class_2[:, 0], class_2[:, 1], c='blue', label='Classe 2')\n",
        "plt.scatter(obs[0], obs[1], c='orange')\n",
        "plt.xlabel('Attribut 1')\n",
        "plt.ylabel('Attribut 2')\n",
        "plt.title('Graphique des données + obs')"
      ]
    },
    {
      "cell_type": "markdown",
      "metadata": {
        "id": "M2ueGP03rnUX"
      },
      "source": [
        "3. Testez maintenant sur le petit jeu de données que vous avez visualisez dans la l'exercice 1. Prenez chaque observation individuellement et traitez la comme une nouvelle observation. Pour chaque observation, quelle serait la classification donnée par 1-$ppv$ et 3-$ppv$?\n",
        "4. Quelle est la classification prédite pour le point (0,0) avec 1-ppv et 3-ppv?"
      ]
    },
    {
      "cell_type": "code",
      "execution_count": 40,
      "metadata": {
        "id": "kP6GEj0cGPJ6",
        "colab": {
          "base_uri": "https://localhost:8080/"
        },
        "outputId": "4484f461-b636-4df5-e233-72017955db57"
      },
      "outputs": [
        {
          "output_type": "stream",
          "name": "stdout",
          "text": [
            "[4.         3.16227766 3.         3.16227766 0.9        1.\n",
            " 2.41660919 2.2        2.41660919]\n",
            "[4 5 7 6 8 2 1 3 0]\n",
            "[1 2 2]\n",
            "Prediction : 2\n"
          ]
        }
      ],
      "source": [
        "# point (0,0)\n",
        "obs = np.array([0,0])\n",
        "k = 3\n",
        "\n",
        "predict = kppv(X, Y, k, obs)\n",
        "print(\"Prediction :\", predict)"
      ]
    },
    {
      "cell_type": "code",
      "execution_count": 41,
      "metadata": {
        "colab": {
          "base_uri": "https://localhost:8080/"
        },
        "outputId": "94f615ed-4d27-4d9c-deba-449dded63484",
        "id": "JgxFDkuwCjtq"
      },
      "outputs": [
        {
          "output_type": "stream",
          "name": "stdout",
          "text": [
            "[4.         3.16227766 3.         3.16227766 0.9        1.\n",
            " 2.41660919 2.2        2.41660919]\n",
            "[4 5 7 6 8 2 1 3 0]\n",
            "[1 2 2]\n",
            "Prediction : 2\n"
          ]
        }
      ],
      "source": [
        "# point (0,0)\n",
        "obs = np.array([0,0])\n",
        "k = 3\n",
        "\n",
        "predict = kppv(X, Y, k, obs)\n",
        "print(\"Prediction :\", predict)"
      ]
    },
    {
      "cell_type": "code",
      "execution_count": 42,
      "metadata": {
        "id": "rXwFTXbWGPJ7",
        "colab": {
          "base_uri": "https://localhost:8080/",
          "height": 489
        },
        "outputId": "90511644-9c04-4b28-ffb7-74309235443e"
      },
      "outputs": [
        {
          "output_type": "execute_result",
          "data": {
            "text/plain": [
              "Text(0.5, 1.0, 'Graphique des données + obs')"
            ]
          },
          "metadata": {},
          "execution_count": 42
        },
        {
          "output_type": "display_data",
          "data": {
            "text/plain": [
              "<Figure size 640x480 with 1 Axes>"
            ],
            "image/png": "[encoded data removed]"
          },
          "metadata": {}
        }
      ],
      "source": [
        "# Visualisation du point (0,0)\n",
        "class_1 = X[Y==1]\n",
        "class_2 = X[Y==2]\n",
        "plt.scatter(class_1[:, 0], class_1[:, 1], c='red', label='Classe 1')\n",
        "plt.scatter(class_2[:, 0], class_2[:, 1], c='blue', label='Classe 2')\n",
        "plt.scatter(obs[0], obs[1], c='orange')\n",
        "plt.xlabel('Attribut 1')\n",
        "plt.ylabel('Attribut 2')\n",
        "plt.title('Graphique des données + obs')"
      ]
    },
    {
      "cell_type": "markdown",
      "metadata": {
        "id": "F4kE8FDlW05T"
      },
      "source": [
        "## Exercice 3\n",
        "\n",
        "### Données Iris et `scikit learn`\n",
        "\n",
        "On va maintenant utilisée une base de données classique pour tester cette méthode, c'est la\n",
        "[La base de données Iris](https://archive.ics.uci.edu/ml/datasets/iris) vue au précédent TP qui contient des données sur 150 fleurs d'iris.\n",
        "\n",
        "On va de plus utiliser une bibliothèque appelée [`scikit learn`](https://scikit-learn.org/stable/) pour faire du machine learning qui contient beaucoup d'algorithmes, dont tous ceux que l'on verra en cours cette année. C'est une bibliothèque très utilisée aussi dans l'industrie.\n",
        "\n",
        "La bibliothèque utilise une approche orientée objet: l'algorithme des `k`-plus proches voisins est une instance d'algorithme de classification.\n",
        "\n",
        "Ci-dessous, on charge pour vous la base de données `Iris`. On va travailler pour le moment avec les attributs des colonnes 2 et 3, mais on pourra tester d'autres paires d'attributs par la suite."
      ]
    },
    {
      "cell_type": "code",
      "execution_count": 43,
      "metadata": {
        "colab": {
          "base_uri": "https://localhost:8080/"
        },
        "id": "rHbmg33RWN0e",
        "outputId": "3ace1e68-a386-4231-802c-5cd31c8f0b1b"
      },
      "outputs": [
        {
          "output_type": "stream",
          "name": "stdout",
          "text": [
            "Nom des classes:  [0 1 2]\n",
            "Nombre d'observations dans chacune des classes: [50 50 50]\n",
            "Il y a  600  observations avec  4  attributs\n"
          ]
        }
      ],
      "source": [
        "from sklearn.datasets import load_iris\n",
        "Xcomplet, y = load_iris(return_X_y=True)\n",
        "print(\"Nom des classes: \", np.unique(y))\n",
        "print(\"Nombre d'observations dans chacune des classes:\", np.bincount(y))\n",
        "print(\"Il y a \", Xcomplet.size, \" observations avec \", Xcomplet[0].size, \" attributs\")\n",
        "X=Xcomplet[:,[2,3]]\n",
        "# on travaille ici avec les colonnes 2 et 3, on pourra changer cela."
      ]
    },
    {
      "cell_type": "markdown",
      "metadata": {
        "id": "LrU9IYBqoXvX"
      },
      "source": [
        "On met en place l'algorithme des $k$-plus proches voisins implémenté dans la librairie `scikit-learn`. Notez qu'ici, on initialise avec $k=5$ et la distance est la distance euclidienne. Notez que pour le moment, l'algorithme n'a pas été \"entrainé\" puisqu'on n'a pas encore spécifié de données.\n",
        "\n",
        "En fait, on a créé une instance de la classe KNeighborsClassifier, qui est une sous classe de la classe qui représente les problèmes de classification. Cette classe possède deux méthodes: fit(X, y) et predict(T)."
      ]
    },
    {
      "cell_type": "code",
      "execution_count": 44,
      "metadata": {
        "id": "8Xm_8-p9Y2BZ"
      },
      "outputs": [],
      "source": [
        "from sklearn.neighbors import KNeighborsClassifier\n",
        "kppv = KNeighborsClassifier(n_neighbors=5,  metric='euclidean')"
      ]
    },
    {
      "cell_type": "markdown",
      "metadata": {
        "id": "LXjP653joFz8"
      },
      "source": [
        "1. Tracez le graphique montrant tous les points de la base. Utilisez une couleur différente et un symbole différent pour représenter les points de chacune des classes.\n",
        "2. Utilisez la méthode fit pour \"entrainer\" l'algorithme, et utilisez la méthode prédict pour tester quelques observations \"à la main\". N'hésitez pas à consulter la documentation de scikit-learn si vous avez besoin."
      ]
    },
    {
      "cell_type": "code",
      "execution_count": 46,
      "metadata": {
        "id": "7Ll5ItUctA-X",
        "colab": {
          "base_uri": "https://localhost:8080/",
          "height": 489
        },
        "outputId": "9cab0cb1-3abd-457a-f194-6fdfd9444555"
      },
      "outputs": [
        {
          "output_type": "execute_result",
          "data": {
            "text/plain": [
              "Text(0.5, 1.0, 'Graphique des données IRIS')"
            ]
          },
          "metadata": {},
          "execution_count": 46
        },
        {
          "output_type": "display_data",
          "data": {
            "text/plain": [
              "<Figure size 640x480 with 1 Axes>"
            ],
            "image/png": "[encoded data removed]"
          },
          "metadata": {}
        }
      ],
      "source": [
        "# Visualisation : à compléter\n",
        "X0= X[y==0]\n",
        "X1= X[y==1]\n",
        "X2= X[y==2]\n",
        "\n",
        "plt.scatter(X0[:, 0], X0[:, 1], c='red', label='Classe 0')\n",
        "plt.scatter(X1[:, 0], X1[:, 1], c='blue', label='Classe 1')\n",
        "plt.scatter(X2[:, 0], X2[:, 1], c='green', label='Classe 2')\n",
        "plt.xlabel('Attribut 1')\n",
        "plt.ylabel('Attribut 2')\n",
        "plt.title('Graphique des données IRIS')"
      ]
    },
    {
      "cell_type": "code",
      "execution_count": 51,
      "metadata": {
        "id": "YtncsMSMGPJ_",
        "colab": {
          "base_uri": "https://localhost:8080/",
          "height": 80
        },
        "outputId": "f6556350-748f-437d-9fe6-23829b92e605"
      },
      "outputs": [
        {
          "output_type": "execute_result",
          "data": {
            "text/plain": [
              "KNeighborsClassifier(metric='euclidean')"
            ],
            "text/html": [
              "<style>#sk-container-id-4 {\n",
              "  /* Definition of color scheme common for light and dark mode */\n",
              "  --sklearn-color-text: black;\n",
              "  --sklearn-color-line: gray;\n",
              "  /* Definition of color scheme for unfitted estimators */\n",
              "  --sklearn-color-unfitted-level-0: #fff5e6;\n",
              "  --sklearn-color-unfitted-level-1: #f6e4d2;\n",
              "  --sklearn-color-unfitted-level-2: #ffe0b3;\n",
              "  --sklearn-color-unfitted-level-3: chocolate;\n",
              "  /* Definition of color scheme for fitted estimators */\n",
              "  --sklearn-color-fitted-level-0: #f0f8ff;\n",
              "  --sklearn-color-fitted-level-1: #d4ebff;\n",
              "  --sklearn-color-fitted-level-2: #b3dbfd;\n",
              "  --sklearn-color-fitted-level-3: cornflowerblue;\n",
              "\n",
              "  /* Specific color for light theme */\n",
              "  --sklearn-color-text-on-default-background: var(--sg-text-color, var(--theme-code-foreground, var(--jp-content-font-color1, black)));\n",
              "  --sklearn-color-background: var(--sg-background-color, var(--theme-background, var(--jp-layout-color0, white)));\n",
              "  --sklearn-color-border-box: var(--sg-text-color, var(--theme-code-foreground, var(--jp-content-font-color1, black)));\n",
              "  --sklearn-color-icon: #696969;\n",
              "\n",
              "  @media (prefers-color-scheme: dark) {\n",
              "    /* Redefinition of color scheme for dark theme */\n",
              "    --sklearn-color-text-on-default-background: var(--sg-text-color, var(--theme-code-foreground, var(--jp-content-font-color1, white)));\n",
              "    --sklearn-color-background: var(--sg-background-color, var(--theme-background, var(--jp-layout-color0, #111)));\n",
              "    --sklearn-color-border-box: var(--sg-text-color, var(--theme-code-foreground, var(--jp-content-font-color1, white)));\n",
              "    --sklearn-color-icon: #878787;\n",
              "  }\n",
              "}\n",
              "\n",
              "#sk-container-id-4 {\n",
              "  color: var(--sklearn-color-text);\n",
              "}\n",
              "\n",
              "#sk-container-id-4 pre {\n",
              "  padding: 0;\n",
              "}\n",
              "\n",
              "#sk-container-id-4 input.sk-hidden--visually {\n",
              "  border: 0;\n",
              "  clip: rect(1px 1px 1px 1px);\n",
              "  clip: rect(1px, 1px, 1px, 1px);\n",
              "  height: 1px;\n",
              "  margin: -1px;\n",
              "  overflow: hidden;\n",
              "  padding: 0;\n",
              "  position: absolute;\n",
              "  width: 1px;\n",
              "}\n",
              "\n",
              "#sk-container-id-4 div.sk-dashed-wrapped {\n",
              "  border: 1px dashed var(--sklearn-color-line);\n",
              "  margin: 0 0.4em 0.5em 0.4em;\n",
              "  box-sizing: border-box;\n",
              "  padding-bottom: 0.4em;\n",
              "  background-color: var(--sklearn-color-background);\n",
              "}\n",
              "\n",
              "#sk-container-id-4 div.sk-container {\n",
              "  /* jupyter's `normalize.less` sets `[hidden] { display: none; }`\n",
              "     but bootstrap.min.css set `[hidden] { display: none !important; }`\n",
              "     so we also need the `!important` here to be able to override the\n",
              "     default hidden behavior on the sphinx rendered scikit-learn.org.\n",
              "     See: https://github.com/scikit-learn/scikit-learn/issues/21755 */\n",
              "  display: inline-block !important;\n",
              "  position: relative;\n",
              "}\n",
              "\n",
              "#sk-container-id-4 div.sk-text-repr-fallback {\n",
              "  display: none;\n",
              "}\n",
              "\n",
              "div.sk-parallel-item,\n",
              "div.sk-serial,\n",
              "div.sk-item {\n",
              "  /* draw centered vertical line to link estimators */\n",
              "  background-image: linear-gradient(var(--sklearn-color-text-on-default-background), var(--sklearn-color-text-on-default-background));\n",
              "  background-size: 2px 100%;\n",
              "  background-repeat: no-repeat;\n",
              "  background-position: center center;\n",
              "}\n",
              "\n",
              "/* Parallel-specific style estimator block */\n",
              "\n",
              "#sk-container-id-4 div.sk-parallel-item::after {\n",
              "  content: \"\";\n",
              "  width: 100%;\n",
              "  border-bottom: 2px solid var(--sklearn-color-text-on-default-background);\n",
              "  flex-grow: 1;\n",
              "}\n",
              "\n",
              "#sk-container-id-4 div.sk-parallel {\n",
              "  display: flex;\n",
              "  align-items: stretch;\n",
              "  justify-content: center;\n",
              "  background-color: var(--sklearn-color-background);\n",
              "  position: relative;\n",
              "}\n",
              "\n",
              "#sk-container-id-4 div.sk-parallel-item {\n",
              "  display: flex;\n",
              "  flex-direction: column;\n",
              "}\n",
              "\n",
              "#sk-container-id-4 div.sk-parallel-item:first-child::after {\n",
              "  align-self: flex-end;\n",
              "  width: 50%;\n",
              "}\n",
              "\n",
              "#sk-container-id-4 div.sk-parallel-item:last-child::after {\n",
              "  align-self: flex-start;\n",
              "  width: 50%;\n",
              "}\n",
              "\n",
              "#sk-container-id-4 div.sk-parallel-item:only-child::after {\n",
              "  width: 0;\n",
              "}\n",
              "\n",
              "/* Serial-specific style estimator block */\n",
              "\n",
              "#sk-container-id-4 div.sk-serial {\n",
              "  display: flex;\n",
              "  flex-direction: column;\n",
              "  align-items: center;\n",
              "  background-color: var(--sklearn-color-background);\n",
              "  padding-right: 1em;\n",
              "  padding-left: 1em;\n",
              "}\n",
              "\n",
              "\n",
              "/* Toggleable style: style used for estimator/Pipeline/ColumnTransformer box that is\n",
              "clickable and can be expanded/collapsed.\n",
              "- Pipeline and ColumnTransformer use this feature and define the default style\n",
              "- Estimators will overwrite some part of the style using the `sk-estimator` class\n",
              "*/\n",
              "\n",
              "/* Pipeline and ColumnTransformer style (default) */\n",
              "\n",
              "#sk-container-id-4 div.sk-toggleable {\n",
              "  /* Default theme specific background. It is overwritten whether we have a\n",
              "  specific estimator or a Pipeline/ColumnTransformer */\n",
              "  background-color: var(--sklearn-color-background);\n",
              "}\n",
              "\n",
              "/* Toggleable label */\n",
              "#sk-container-id-4 label.sk-toggleable__label {\n",
              "  cursor: pointer;\n",
              "  display: block;\n",
              "  width: 100%;\n",
              "  margin-bottom: 0;\n",
              "  padding: 0.5em;\n",
              "  box-sizing: border-box;\n",
              "  text-align: center;\n",
              "}\n",
              "\n",
              "#sk-container-id-4 label.sk-toggleable__label-arrow:before {\n",
              "  /* Arrow on the left of the label */\n",
              "  content: \"▸\";\n",
              "  float: left;\n",
              "  margin-right: 0.25em;\n",
              "  color: var(--sklearn-color-icon);\n",
              "}\n",
              "\n",
              "#sk-container-id-4 label.sk-toggleable__label-arrow:hover:before {\n",
              "  color: var(--sklearn-color-text);\n",
              "}\n",
              "\n",
              "/* Toggleable content - dropdown */\n",
              "\n",
              "#sk-container-id-4 div.sk-toggleable__content {\n",
              "  max-height: 0;\n",
              "  max-width: 0;\n",
              "  overflow: hidden;\n",
              "  text-align: left;\n",
              "  /* unfitted */\n",
              "  background-color: var(--sklearn-color-unfitted-level-0);\n",
              "}\n",
              "\n",
              "#sk-container-id-4 div.sk-toggleable__content.fitted {\n",
              "  /* fitted */\n",
              "  background-color: var(--sklearn-color-fitted-level-0);\n",
              "}\n",
              "\n",
              "#sk-container-id-4 div.sk-toggleable__content pre {\n",
              "  margin: 0.2em;\n",
              "  border-radius: 0.25em;\n",
              "  color: var(--sklearn-color-text);\n",
              "  /* unfitted */\n",
              "  background-color: var(--sklearn-color-unfitted-level-0);\n",
              "}\n",
              "\n",
              "#sk-container-id-4 div.sk-toggleable__content.fitted pre {\n",
              "  /* unfitted */\n",
              "  background-color: var(--sklearn-color-fitted-level-0);\n",
              "}\n",
              "\n",
              "#sk-container-id-4 input.sk-toggleable__control:checked~div.sk-toggleable__content {\n",
              "  /* Expand drop-down */\n",
              "  max-height: 200px;\n",
              "  max-width: 100%;\n",
              "  overflow: auto;\n",
              "}\n",
              "\n",
              "#sk-container-id-4 input.sk-toggleable__control:checked~label.sk-toggleable__label-arrow:before {\n",
              "  content: \"▾\";\n",
              "}\n",
              "\n",
              "/* Pipeline/ColumnTransformer-specific style */\n",
              "\n",
              "#sk-container-id-4 div.sk-label input.sk-toggleable__control:checked~label.sk-toggleable__label {\n",
              "  color: var(--sklearn-color-text);\n",
              "  background-color: var(--sklearn-color-unfitted-level-2);\n",
              "}\n",
              "\n",
              "#sk-container-id-4 div.sk-label.fitted input.sk-toggleable__control:checked~label.sk-toggleable__label {\n",
              "  background-color: var(--sklearn-color-fitted-level-2);\n",
              "}\n",
              "\n",
              "/* Estimator-specific style */\n",
              "\n",
              "/* Colorize estimator box */\n",
              "#sk-container-id-4 div.sk-estimator input.sk-toggleable__control:checked~label.sk-toggleable__label {\n",
              "  /* unfitted */\n",
              "  background-color: var(--sklearn-color-unfitted-level-2);\n",
              "}\n",
              "\n",
              "#sk-container-id-4 div.sk-estimator.fitted input.sk-toggleable__control:checked~label.sk-toggleable__label {\n",
              "  /* fitted */\n",
              "  background-color: var(--sklearn-color-fitted-level-2);\n",
              "}\n",
              "\n",
              "#sk-container-id-4 div.sk-label label.sk-toggleable__label,\n",
              "#sk-container-id-4 div.sk-label label {\n",
              "  /* The background is the default theme color */\n",
              "  color: var(--sklearn-color-text-on-default-background);\n",
              "}\n",
              "\n",
              "/* On hover, darken the color of the background */\n",
              "#sk-container-id-4 div.sk-label:hover label.sk-toggleable__label {\n",
              "  color: var(--sklearn-color-text);\n",
              "  background-color: var(--sklearn-color-unfitted-level-2);\n",
              "}\n",
              "\n",
              "/* Label box, darken color on hover, fitted */\n",
              "#sk-container-id-4 div.sk-label.fitted:hover label.sk-toggleable__label.fitted {\n",
              "  color: var(--sklearn-color-text);\n",
              "  background-color: var(--sklearn-color-fitted-level-2);\n",
              "}\n",
              "\n",
              "/* Estimator label */\n",
              "\n",
              "#sk-container-id-4 div.sk-label label {\n",
              "  font-family: monospace;\n",
              "  font-weight: bold;\n",
              "  display: inline-block;\n",
              "  line-height: 1.2em;\n",
              "}\n",
              "\n",
              "#sk-container-id-4 div.sk-label-container {\n",
              "  text-align: center;\n",
              "}\n",
              "\n",
              "/* Estimator-specific */\n",
              "#sk-container-id-4 div.sk-estimator {\n",
              "  font-family: monospace;\n",
              "  border: 1px dotted var(--sklearn-color-border-box);\n",
              "  border-radius: 0.25em;\n",
              "  box-sizing: border-box;\n",
              "  margin-bottom: 0.5em;\n",
              "  /* unfitted */\n",
              "  background-color: var(--sklearn-color-unfitted-level-0);\n",
              "}\n",
              "\n",
              "#sk-container-id-4 div.sk-estimator.fitted {\n",
              "  /* fitted */\n",
              "  background-color: var(--sklearn-color-fitted-level-0);\n",
              "}\n",
              "\n",
              "/* on hover */\n",
              "#sk-container-id-4 div.sk-estimator:hover {\n",
              "  /* unfitted */\n",
              "  background-color: var(--sklearn-color-unfitted-level-2);\n",
              "}\n",
              "\n",
              "#sk-container-id-4 div.sk-estimator.fitted:hover {\n",
              "  /* fitted */\n",
              "  background-color: var(--sklearn-color-fitted-level-2);\n",
              "}\n",
              "\n",
              "/* Specification for estimator info (e.g. \"i\" and \"?\") */\n",
              "\n",
              "/* Common style for \"i\" and \"?\" */\n",
              "\n",
              ".sk-estimator-doc-link,\n",
              "a:link.sk-estimator-doc-link,\n",
              "a:visited.sk-estimator-doc-link {\n",
              "  float: right;\n",
              "  font-size: smaller;\n",
              "  line-height: 1em;\n",
              "  font-family: monospace;\n",
              "  background-color: var(--sklearn-color-background);\n",
              "  border-radius: 1em;\n",
              "  height: 1em;\n",
              "  width: 1em;\n",
              "  text-decoration: none !important;\n",
              "  margin-left: 1ex;\n",
              "  /* unfitted */\n",
              "  border: var(--sklearn-color-unfitted-level-1) 1pt solid;\n",
              "  color: var(--sklearn-color-unfitted-level-1);\n",
              "}\n",
              "\n",
              ".sk-estimator-doc-link.fitted,\n",
              "a:link.sk-estimator-doc-link.fitted,\n",
              "a:visited.sk-estimator-doc-link.fitted {\n",
              "  /* fitted */\n",
              "  border: var(--sklearn-color-fitted-level-1) 1pt solid;\n",
              "  color: var(--sklearn-color-fitted-level-1);\n",
              "}\n",
              "\n",
              "/* On hover */\n",
              "div.sk-estimator:hover .sk-estimator-doc-link:hover,\n",
              ".sk-estimator-doc-link:hover,\n",
              "div.sk-label-container:hover .sk-estimator-doc-link:hover,\n",
              ".sk-estimator-doc-link:hover {\n",
              "  /* unfitted */\n",
              "  background-color: var(--sklearn-color-unfitted-level-3);\n",
              "  color: var(--sklearn-color-background);\n",
              "  text-decoration: none;\n",
              "}\n",
              "\n",
              "div.sk-estimator.fitted:hover .sk-estimator-doc-link.fitted:hover,\n",
              ".sk-estimator-doc-link.fitted:hover,\n",
              "div.sk-label-container:hover .sk-estimator-doc-link.fitted:hover,\n",
              ".sk-estimator-doc-link.fitted:hover {\n",
              "  /* fitted */\n",
              "  background-color: var(--sklearn-color-fitted-level-3);\n",
              "  color: var(--sklearn-color-background);\n",
              "  text-decoration: none;\n",
              "}\n",
              "\n",
              "/* Span, style for the box shown on hovering the info icon */\n",
              ".sk-estimator-doc-link span {\n",
              "  display: none;\n",
              "  z-index: 9999;\n",
              "  position: relative;\n",
              "  font-weight: normal;\n",
              "  right: .2ex;\n",
              "  padding: .5ex;\n",
              "  margin: .5ex;\n",
              "  width: min-content;\n",
              "  min-width: 20ex;\n",
              "  max-width: 50ex;\n",
              "  color: var(--sklearn-color-text);\n",
              "  box-shadow: 2pt 2pt 4pt #999;\n",
              "  /* unfitted */\n",
              "  background: var(--sklearn-color-unfitted-level-0);\n",
              "  border: .5pt solid var(--sklearn-color-unfitted-level-3);\n",
              "}\n",
              "\n",
              ".sk-estimator-doc-link.fitted span {\n",
              "  /* fitted */\n",
              "  background: var(--sklearn-color-fitted-level-0);\n",
              "  border: var(--sklearn-color-fitted-level-3);\n",
              "}\n",
              "\n",
              ".sk-estimator-doc-link:hover span {\n",
              "  display: block;\n",
              "}\n",
              "\n",
              "/* \"?\"-specific style due to the `<a>` HTML tag */\n",
              "\n",
              "#sk-container-id-4 a.estimator_doc_link {\n",
              "  float: right;\n",
              "  font-size: 1rem;\n",
              "  line-height: 1em;\n",
              "  font-family: monospace;\n",
              "  background-color: var(--sklearn-color-background);\n",
              "  border-radius: 1rem;\n",
              "  height: 1rem;\n",
              "  width: 1rem;\n",
              "  text-decoration: none;\n",
              "  /* unfitted */\n",
              "  color: var(--sklearn-color-unfitted-level-1);\n",
              "  border: var(--sklearn-color-unfitted-level-1) 1pt solid;\n",
              "}\n",
              "\n",
              "#sk-container-id-4 a.estimator_doc_link.fitted {\n",
              "  /* fitted */\n",
              "  border: var(--sklearn-color-fitted-level-1) 1pt solid;\n",
              "  color: var(--sklearn-color-fitted-level-1);\n",
              "}\n",
              "\n",
              "/* On hover */\n",
              "#sk-container-id-4 a.estimator_doc_link:hover {\n",
              "  /* unfitted */\n",
              "  background-color: var(--sklearn-color-unfitted-level-3);\n",
              "  color: var(--sklearn-color-background);\n",
              "  text-decoration: none;\n",
              "}\n",
              "\n",
              "#sk-container-id-4 a.estimator_doc_link.fitted:hover {\n",
              "  /* fitted */\n",
              "  background-color: var(--sklearn-color-fitted-level-3);\n",
              "}\n",
              "</style><div id=\"sk-container-id-4\" class=\"sk-top-container\"><div class=\"sk-text-repr-fallback\"><pre>KNeighborsClassifier(metric=&#x27;euclidean&#x27;)</pre><b>In a Jupyter environment, please rerun this cell to show the HTML representation or trust the notebook. <br />On GitHub, the HTML representation is unable to render, please try loading this page with nbviewer.org.</b></div><div class=\"sk-container\" hidden><div class=\"sk-item\"><div class=\"sk-estimator fitted sk-toggleable\"><input class=\"sk-toggleable__control sk-hidden--visually\" id=\"sk-estimator-id-4\" type=\"checkbox\" checked><label for=\"sk-estimator-id-4\" class=\"sk-toggleable__label fitted sk-toggleable__label-arrow fitted\">&nbsp;&nbsp;KNeighborsClassifier<a class=\"sk-estimator-doc-link fitted\" rel=\"noreferrer\" target=\"_blank\" href=\"https://scikit-learn.org/1.5/modules/generated/sklearn.neighbors.KNeighborsClassifier.html\">?<span>Documentation for KNeighborsClassifier</span></a><span class=\"sk-estimator-doc-link fitted\">i<span>Fitted</span></span></label><div class=\"sk-toggleable__content fitted\"><pre>KNeighborsClassifier(metric=&#x27;euclidean&#x27;)</pre></div> </div></div></div></div>"
            ]
          },
          "metadata": {},
          "execution_count": 51
        }
      ],
      "source": [
        "#Entrainer le modele\n",
        "kppv.fit(X, y)\n",
        "\n",
        "\n"
      ]
    },
    {
      "cell_type": "code",
      "execution_count": 53,
      "metadata": {
        "id": "-CzhtlxnGPKA"
      },
      "outputs": [],
      "source": [
        "classes={0:'setosa', 1:'versicolor', 2:'virginica'}"
      ]
    },
    {
      "cell_type": "code",
      "execution_count": 54,
      "metadata": {
        "id": "Kbu_3haoGPKB",
        "colab": {
          "base_uri": "https://localhost:8080/"
        },
        "outputId": "68f2c6ff-61ff-4a44-d47e-04b75d58891d"
      },
      "outputs": [
        {
          "output_type": "stream",
          "name": "stdout",
          "text": [
            "versicolor\n"
          ]
        }
      ],
      "source": [
        "# tester le modele\n",
        "# Faire la prédiction, ensuite afficher le nom de la fleur\n",
        "Xnew=[[3.0, 1.0]]\n",
        "y_predict= kppv.predict(Xnew)\n",
        "print(classes[y_predict[0]])"
      ]
    },
    {
      "cell_type": "code",
      "execution_count": 64,
      "metadata": {
        "id": "ClFTp40wGPKB",
        "colab": {
          "base_uri": "https://localhost:8080/"
        },
        "outputId": "66521117-6d12-4031-94e7-d0f8a62b8b0e"
      },
      "outputs": [
        {
          "output_type": "stream",
          "name": "stdout",
          "text": [
            "versicolor\n"
          ]
        }
      ],
      "source": [
        "# tester le modele\n",
        "# Faire la prédiction, ensuite afficher le nom de la fleur\n",
        "Xnew=[[3.0, 2.0]]\n",
        "y_predict= kppv.predict(Xnew)\n",
        "print(classes[y_predict[0]])"
      ]
    },
    {
      "cell_type": "code",
      "execution_count": 56,
      "metadata": {
        "id": "hOpEFIWxGPKC",
        "colab": {
          "base_uri": "https://localhost:8080/"
        },
        "outputId": "cababf20-fc0c-44ff-8cb7-797077322c18"
      },
      "outputs": [
        {
          "output_type": "stream",
          "name": "stdout",
          "text": [
            "setosa\n"
          ]
        }
      ],
      "source": [
        "# tester le modele\n",
        "# Faire la prédiction, ensuite afficher le nom de la fleur\n",
        "Xnew=[[1.0, 1.0]]\n",
        "y_predict= kppv.predict(Xnew)\n",
        "print(classes[y_predict[0]])"
      ]
    },
    {
      "cell_type": "markdown",
      "metadata": {
        "id": "LgFEKU-Oq3p2"
      },
      "source": [
        "On vous donne ci-dessous le code d'une méthode pour générer le graphique des régions de décisions. La stratégie est de demander à l'algorithme de classification la classification pour tous les points d'une grille et de générer les régions avec les prédictions."
      ]
    },
    {
      "cell_type": "code",
      "execution_count": 59,
      "metadata": {
        "id": "pZIaKZ06an7U"
      },
      "outputs": [],
      "source": [
        "from matplotlib.colors import ListedColormap\n",
        "import matplotlib.pyplot as plt\n",
        "\n",
        "\n",
        "def plot_decision_regions(X, y, classifier, resolution=0.02):\n",
        "\n",
        "    # setup marker generator and color map\n",
        "    markers = ('d', 's', 'o', '^', 'v')\n",
        "    colors = ('red', 'blue', 'lightgreen', 'gray', 'cyan')\n",
        "    cmap = ListedColormap(colors[:len(np.unique(y))])\n",
        "\n",
        "    # plot the decision surface\n",
        "    x1_min, x1_max = X[:, 0].min() - 1, X[:, 0].max() + 1\n",
        "    x2_min, x2_max = X[:, 1].min() - 1, X[:, 1].max() + 1\n",
        "    xx1, xx2 = np.meshgrid(np.arange(x1_min, x1_max, resolution),\n",
        "                           np.arange(x2_min, x2_max, resolution))\n",
        "    Z = classifier.predict(np.array([xx1.ravel(), xx2.ravel()]).T)\n",
        "    Z = Z.reshape(xx1.shape)\n",
        "    plt.contourf(xx1, xx2, Z, alpha=0.3, cmap=cmap)\n",
        "    plt.xlim(xx1.min(), xx1.max())\n",
        "    plt.ylim(xx2.min(), xx2.max())\n",
        "\n",
        "    for idx, cl in enumerate(np.unique(y)):\n",
        "        plt.scatter(x=X[y == cl, 0],\n",
        "                    y=X[y == cl, 1],\n",
        "                    alpha=0.8,\n",
        "                    c=colors[idx],\n",
        "                    marker=markers[idx],\n",
        "                    label=cl,\n",
        "                    edgecolor='black')"
      ]
    },
    {
      "cell_type": "markdown",
      "metadata": {
        "id": "m5lBxUYXqyeN"
      },
      "source": [
        "3. Utilisez la fonction plot_decision_regions codée ci-dessous pour visualiser la surface de décision.\n",
        "4. Changez la valeur de $k$ et observez les changements de la surface de décision.\n",
        "5. On peut aussi travailler avec d'autres distances. Vous trouverez les distances disponibles sur [ce lien](https://scikit-learn.org/stable/modules/generated/sklearn.neighbors.KNeighborsClassifier.html#). Utilisez la distance de manhattan et observez les changements de la surface de décisions avec plusieurs valeurs de $k$."
      ]
    },
    {
      "cell_type": "code",
      "execution_count": 60,
      "metadata": {
        "id": "d4IAUmLVnDTp",
        "colab": {
          "base_uri": "https://localhost:8080/",
          "height": 430
        },
        "outputId": "b333d571-7db2-4e4c-d143-4a49696c9fc8"
      },
      "outputs": [
        {
          "output_type": "display_data",
          "data": {
            "text/plain": [
              "<Figure size 640x480 with 1 Axes>"
            ],
            "image/png": "[encoded data removed]"
          },
          "metadata": {}
        }
      ],
      "source": [
        "plot_decision_regions(X, y, kppv)\n"
      ]
    },
    {
      "cell_type": "code",
      "execution_count": null,
      "metadata": {
        "id": "up7bwLfuGPKE"
      },
      "outputs": [],
      "source": []
    }
  ],
  "metadata": {
    "colab": {
      "provenance": [],
      "include_colab_link": true
    },
    "kernelspec": {
      "display_name": "Python 3 (ipykernel)",
      "language": "python",
      "name": "python3"
    },
    "language_info": {
      "codemirror_mode": {
        "name": "ipython",
        "version": 3
      },
      "file_extension": ".py",
      "mimetype": "text/x-python",
      "name": "python",
      "nbconvert_exporter": "python",
      "pygments_lexer": "ipython3",
      "version": "3.12.3"
    }
  },
  "nbformat": 4,
  "nbformat_minor": 0
}